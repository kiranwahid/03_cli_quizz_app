{
  "nbformat": 4,
  "nbformat_minor": 0,
  "metadata": {
    "colab": {
      "provenance": [],
      "authorship_tag": "ABX9TyON4VAjzT2qv/06sD0MTWw7",
      "include_colab_link": true
    },
    "kernelspec": {
      "name": "python3",
      "display_name": "Python 3"
    },
    "language_info": {
      "name": "python"
    }
  },
  "cells": [
    {
      "cell_type": "markdown",
      "metadata": {
        "id": "view-in-github",
        "colab_type": "text"
      },
      "source": [
        "<a href=\"https://colab.research.google.com/github/kiranwahid/03_cli_quizz_app/blob/main/madlib.ipynb\" target=\"_parent\"><img src=\"https://colab.research.google.com/assets/colab-badge.svg\" alt=\"Open In Colab\"/></a>"
      ]
    },
    {
      "cell_type": "markdown",
      "source": [
        "# Simple madlib game in ***python***"
      ],
      "metadata": {
        "id": "FZfzXc9xnElK"
      }
    },
    {
      "cell_type": "code",
      "source": [
        "# Get inputs from user\n",
        "\n",
        "name:str = input(\"Enter a name: \")\n",
        "verb :str = input(\"Enter a verb: \")\n",
        "adjective:str = input(\"Enter an adjective: \")\n",
        "noun:str = input(\"Enter a noun:\")\n",
        "place:str = input(\"Enter a place:\")\n",
        "animal:str = input(\"Enter an animal:\")\n",
        "food:str = input(\"Enter any food name\")\n",
        "story:str =f\"\"\"One day, {name} decided to {verb} in a {adjective} {place}.\n",
        "Along the way, {name} found a magical {noun} that could talk!\n",
        "The {noun} invited {name} to a feast with a friendly {animal}, where they all enjoyed a delicious {food}.\n",
        "It was a day {name} would never forget!\"\"\"\n",
        "\n",
        "# print welcome message\n",
        "print(\"Welcome to my madlib game😍\")\n",
        "print(story)\n",
        "\n",
        "\n",
        "\n"
      ],
      "metadata": {
        "colab": {
          "base_uri": "https://localhost:8080/"
        },
        "id": "QJoEbgpVnMne",
        "outputId": "0c64507e-f731-43c0-9d98-dae201b90f33"
      },
      "execution_count": 6,
      "outputs": [
        {
          "output_type": "stream",
          "name": "stdout",
          "text": [
            "Enter a name: kiran\n",
            "Enter a verb: explor\n",
            "Enter an adjective: jentia\n",
            "Enter a noun:jhon\n",
            "Enter a place:zoo\n",
            "Enter an animal:jhg\n",
            "Enter any food namejjjl\n",
            "Welcome to my madlib game😍\n",
            "One day, kiran decided to explor in a jentia zoo.\n",
            "Along the way, kiran found a magical jhon that could talk! \n",
            "The jhon invited kiran to a feast with a friendly jhg, where they all enjoyed a delicious jjjl. \n",
            "It was a day kiran would never forget!\n"
          ]
        }
      ]
    }
  ]
}