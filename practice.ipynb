{
  "nbformat": 4,
  "nbformat_minor": 0,
  "metadata": {
    "colab": {
      "provenance": [],
      "authorship_tag": "ABX9TyPQUPxXq0Wo/oT2Z9XWPTmc",
      "include_colab_link": true
    },
    "kernelspec": {
      "name": "python3",
      "display_name": "Python 3"
    },
    "language_info": {
      "name": "python"
    }
  },
  "cells": [
    {
      "cell_type": "markdown",
      "metadata": {
        "id": "view-in-github",
        "colab_type": "text"
      },
      "source": [
        "<a href=\"https://colab.research.google.com/github/kiranwahid/03_cli_quizz_app/blob/main/practice.ipynb\" target=\"_parent\"><img src=\"https://colab.research.google.com/assets/colab-badge.svg\" alt=\"Open In Colab\"/></a>"
      ]
    },
    {
      "cell_type": "code",
      "execution_count": 1,
      "metadata": {
        "colab": {
          "base_uri": "https://localhost:8080/"
        },
        "id": "UsYBgKhUUQrW",
        "outputId": "efd54038-3d8c-40e9-a0ac-bfbe0c0c9ecc"
      },
      "outputs": [
        {
          "output_type": "stream",
          "name": "stdout",
          "text": [
            "Hello World\n"
          ]
        }
      ],
      "source": [
        "#print work like console.log\n",
        "print(\"Hello World\")"
      ]
    },
    {
      "cell_type": "code",
      "source": [
        "#variables\n",
        "# for strint we can use single , double and triple quotes. triple quotes use for multiple lines\n",
        "# single quote\n",
        "userName = 'kiran'\n",
        "print(userName)\n",
        "# double quote\n",
        "clientName = \"Wahid Hussain\"\n",
        "print(clientName)\n",
        "# triple quote\n",
        "introuction = \"\"\"my name is kiran\n",
        "my father name is wahid hussain \"\"\"\n",
        "print(introuction)\n",
        "\n",
        "# f for formating it works like backtick\n",
        "\n",
        "age = 25\n",
        "userName = 'kainat'\n",
        "female = True\n",
        "print(age, userName, female)"
      ],
      "metadata": {
        "colab": {
          "base_uri": "https://localhost:8080/"
        },
        "id": "Z3KQOOgIUlNc",
        "outputId": "721859af-d350-4d3d-d341-5bc7ab894b16"
      },
      "execution_count": 9,
      "outputs": [
        {
          "output_type": "stream",
          "name": "stdout",
          "text": [
            "kiran\n",
            "Wahid Hussain\n",
            "my name is kiran\n",
            "my father name is wahid hussain \n",
            "25 kainat True\n"
          ]
        }
      ]
    },
    {
      "cell_type": "code",
      "source": [
        "# use of * & +\n",
        "print(2 * 8) #*use for simple multiplication\n",
        "# * use with string it will print 10 time this code\n",
        "print(\"Pakistan zindabad \\n\" * 5)\n",
        "# concatination\n",
        "print(\"Kiran\" + \"Wahid\")\n",
        "# addition\n",
        "print(5 + 10)"
      ],
      "metadata": {
        "colab": {
          "base_uri": "https://localhost:8080/"
        },
        "id": "elvuC9SUY4Do",
        "outputId": "a99eee3a-d725-406c-9b80-ef0f6b8a266f"
      },
      "execution_count": 15,
      "outputs": [
        {
          "output_type": "stream",
          "name": "stdout",
          "text": [
            "16\n",
            "Pakistan zindabad \n",
            "Pakistan zindabad \n",
            "Pakistan zindabad \n",
            "Pakistan zindabad \n",
            "Pakistan zindabad \n",
            "\n",
            "KiranWahid\n",
            "15\n"
          ]
        }
      ]
    },
    {
      "cell_type": "code",
      "source": [
        "#oprators\n",
        "print(10>5)\n",
        "print(10<5)\n",
        "print(6==6)\n",
        "print(7!=7)\n",
        "print(8>=8)\n",
        "print(10<=5)\n",
        "print(8 + 2)\n",
        "print(20-5)\n",
        "print(20/2)"
      ],
      "metadata": {
        "colab": {
          "base_uri": "https://localhost:8080/"
        },
        "id": "3tU5aQRYePty",
        "outputId": "50e9cbbb-6671-4a3c-c1cc-7fcc9803904f"
      },
      "execution_count": 16,
      "outputs": [
        {
          "output_type": "stream",
          "name": "stdout",
          "text": [
            "True\n",
            "False\n",
            "True\n",
            "False\n",
            "True\n",
            "False\n",
            "10\n",
            "15\n",
            "10.0\n"
          ]
        }
      ]
    },
    {
      "cell_type": "code",
      "source": [
        "# take user input\n",
        "userName = input(\"Enter Yout Name \")\n",
        "print(f\"Goog Mornint {userName}\")\n",
        "userAge = float(input('Enter your age '))\n",
        "print(userAge)"
      ],
      "metadata": {
        "colab": {
          "base_uri": "https://localhost:8080/"
        },
        "id": "IeXRO_jKgO_R",
        "outputId": "642e7f68-8469-4de1-80cb-b72dcd9f844f"
      },
      "execution_count": 20,
      "outputs": [
        {
          "output_type": "stream",
          "name": "stdout",
          "text": [
            "Enter Yout Name kiran\n",
            "Goog Mornint kiran\n",
            "Enter your age 25\n",
            "25.0\n"
          ]
        }
      ]
    },
    {
      "cell_type": "code",
      "source": [
        "weather = input(\"Enter weather \")\n",
        "if weather == 'winter' :\n",
        "  print(f\"It's freezing cold today.\")\n",
        "else:\n",
        "  print(\"It's scorching hot today.\")"
      ],
      "metadata": {
        "colab": {
          "base_uri": "https://localhost:8080/"
        },
        "id": "BdVwMru-iojN",
        "outputId": "7b7fb660-005e-4ae8-dd81-4dea59c5033c"
      },
      "execution_count": 26,
      "outputs": [
        {
          "output_type": "stream",
          "name": "stdout",
          "text": [
            "Enter weather hot\n",
            "It's scorching hot today.\n"
          ]
        }
      ]
    }
  ]
}